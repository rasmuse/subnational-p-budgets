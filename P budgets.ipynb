{
 "cells": [
  {
   "cell_type": "markdown",
   "metadata": {},
   "source": [
    "# Main results from subnational P budget calculation for EU28\n",
    "\n",
    "This notebook loads and compiles the results from the other parts of the calculation."
   ]
  },
  {
   "cell_type": "code",
   "execution_count": 1,
   "metadata": {},
   "outputs": [],
   "source": [
    "import os\n",
    "import pandas as pd\n",
    "import nuts\n",
    "import settings"
   ]
  },
  {
   "cell_type": "code",
   "execution_count": 2,
   "metadata": {},
   "outputs": [],
   "source": [
    "nuts_table = nuts.get_nuts_candidates()\n",
    "EU28_countries = list(nuts_table.country_code.unique())"
   ]
  },
  {
   "cell_type": "code",
   "execution_count": 3,
   "metadata": {},
   "outputs": [
    {
     "data": {
      "text/html": [
       "<div>\n",
       "<style scoped>\n",
       "    .dataframe tbody tr th:only-of-type {\n",
       "        vertical-align: middle;\n",
       "    }\n",
       "\n",
       "    .dataframe tbody tr th {\n",
       "        vertical-align: top;\n",
       "    }\n",
       "\n",
       "    .dataframe thead th {\n",
       "        text-align: right;\n",
       "    }\n",
       "</style>\n",
       "<table border=\"1\" class=\"dataframe\">\n",
       "  <thead>\n",
       "    <tr style=\"text-align: right;\">\n",
       "      <th></th>\n",
       "      <th>UAA</th>\n",
       "      <th>UAA_XJ2000_J3000</th>\n",
       "    </tr>\n",
       "    <tr>\n",
       "      <th>geo</th>\n",
       "      <th></th>\n",
       "      <th></th>\n",
       "    </tr>\n",
       "  </thead>\n",
       "  <tbody>\n",
       "    <tr>\n",
       "      <th>AT</th>\n",
       "      <td>2.72689</td>\n",
       "      <td>2.28822</td>\n",
       "    </tr>\n",
       "    <tr>\n",
       "      <th>AT1</th>\n",
       "      <td>1.09884</td>\n",
       "      <td>1.08506</td>\n",
       "    </tr>\n",
       "    <tr>\n",
       "      <th>AT11</th>\n",
       "      <td>0.18197</td>\n",
       "      <td>0.17671</td>\n",
       "    </tr>\n",
       "    <tr>\n",
       "      <th>AT12</th>\n",
       "      <td>0.90885</td>\n",
       "      <td>0.90100</td>\n",
       "    </tr>\n",
       "    <tr>\n",
       "      <th>AT13</th>\n",
       "      <td>0.00802</td>\n",
       "      <td>0.00735</td>\n",
       "    </tr>\n",
       "    <tr>\n",
       "      <th>...</th>\n",
       "      <td>...</td>\n",
       "      <td>...</td>\n",
       "    </tr>\n",
       "    <tr>\n",
       "      <th>UKM3</th>\n",
       "      <td>0.79834</td>\n",
       "      <td>0.48694</td>\n",
       "    </tr>\n",
       "    <tr>\n",
       "      <th>UKM5</th>\n",
       "      <td>0.47877</td>\n",
       "      <td>0.31144</td>\n",
       "    </tr>\n",
       "    <tr>\n",
       "      <th>UKM6</th>\n",
       "      <td>2.76356</td>\n",
       "      <td>0.43391</td>\n",
       "    </tr>\n",
       "    <tr>\n",
       "      <th>UKN</th>\n",
       "      <td>1.04614</td>\n",
       "      <td>0.85062</td>\n",
       "    </tr>\n",
       "    <tr>\n",
       "      <th>UKN0</th>\n",
       "      <td>1.04614</td>\n",
       "      <td>0.85062</td>\n",
       "    </tr>\n",
       "  </tbody>\n",
       "</table>\n",
       "<p>404 rows × 2 columns</p>\n",
       "</div>"
      ],
      "text/plain": [
       "          UAA  UAA_XJ2000_J3000\n",
       "geo                            \n",
       "AT    2.72689           2.28822\n",
       "AT1   1.09884           1.08506\n",
       "AT11  0.18197           0.17671\n",
       "AT12  0.90885           0.90100\n",
       "AT13  0.00802           0.00735\n",
       "...       ...               ...\n",
       "UKM3  0.79834           0.48694\n",
       "UKM5  0.47877           0.31144\n",
       "UKM6  2.76356           0.43391\n",
       "UKN   1.04614           0.85062\n",
       "UKN0  1.04614           0.85062\n",
       "\n",
       "[404 rows x 2 columns]"
      ]
     },
     "execution_count": 3,
     "metadata": {},
     "output_type": "execute_result"
    }
   ],
   "source": [
    "refareas = pd.read_csv(settings.REFERENCE_AREAS_PATH, index_col='geo')\n",
    "refareas"
   ]
  },
  {
   "cell_type": "code",
   "execution_count": 4,
   "metadata": {},
   "outputs": [
    {
     "data": {
      "text/html": [
       "<div>\n",
       "<style scoped>\n",
       "    .dataframe tbody tr th:only-of-type {\n",
       "        vertical-align: middle;\n",
       "    }\n",
       "\n",
       "    .dataframe tbody tr th {\n",
       "        vertical-align: top;\n",
       "    }\n",
       "\n",
       "    .dataframe thead th {\n",
       "        text-align: right;\n",
       "    }\n",
       "</style>\n",
       "<table border=\"1\" class=\"dataframe\">\n",
       "  <thead>\n",
       "    <tr style=\"text-align: right;\">\n",
       "      <th></th>\n",
       "      <th>UAA</th>\n",
       "      <th>UAA_XJ2000_J3000</th>\n",
       "    </tr>\n",
       "    <tr>\n",
       "      <th>geo</th>\n",
       "      <th></th>\n",
       "      <th></th>\n",
       "    </tr>\n",
       "  </thead>\n",
       "  <tbody>\n",
       "    <tr>\n",
       "      <th>AT</th>\n",
       "      <td>35.538532</td>\n",
       "      <td>31.720921</td>\n",
       "    </tr>\n",
       "    <tr>\n",
       "      <th>AT1</th>\n",
       "      <td>15.796516</td>\n",
       "      <td>15.697578</td>\n",
       "    </tr>\n",
       "    <tr>\n",
       "      <th>AT11</th>\n",
       "      <td>2.391751</td>\n",
       "      <td>2.361472</td>\n",
       "    </tr>\n",
       "    <tr>\n",
       "      <th>AT12</th>\n",
       "      <td>13.859568</td>\n",
       "      <td>13.798137</td>\n",
       "    </tr>\n",
       "    <tr>\n",
       "      <th>AT13</th>\n",
       "      <td>0.095626</td>\n",
       "      <td>0.093916</td>\n",
       "    </tr>\n",
       "    <tr>\n",
       "      <th>...</th>\n",
       "      <td>...</td>\n",
       "      <td>...</td>\n",
       "    </tr>\n",
       "    <tr>\n",
       "      <th>UKM3</th>\n",
       "      <td>14.974345</td>\n",
       "      <td>9.147147</td>\n",
       "    </tr>\n",
       "    <tr>\n",
       "      <th>UKM5</th>\n",
       "      <td>8.888009</td>\n",
       "      <td>5.764010</td>\n",
       "    </tr>\n",
       "    <tr>\n",
       "      <th>UKM6</th>\n",
       "      <td>51.809166</td>\n",
       "      <td>8.105715</td>\n",
       "    </tr>\n",
       "    <tr>\n",
       "      <th>UKN</th>\n",
       "      <td>19.629553</td>\n",
       "      <td>15.984317</td>\n",
       "    </tr>\n",
       "    <tr>\n",
       "      <th>UKN0</th>\n",
       "      <td>19.629553</td>\n",
       "      <td>15.984317</td>\n",
       "    </tr>\n",
       "  </tbody>\n",
       "</table>\n",
       "<p>404 rows × 2 columns</p>\n",
       "</div>"
      ],
      "text/plain": [
       "            UAA  UAA_XJ2000_J3000\n",
       "geo                              \n",
       "AT    35.538532         31.720921\n",
       "AT1   15.796516         15.697578\n",
       "AT11   2.391751          2.361472\n",
       "AT12  13.859568         13.798137\n",
       "AT13   0.095626          0.093916\n",
       "...         ...               ...\n",
       "UKM3  14.974345          9.147147\n",
       "UKM5   8.888009          5.764010\n",
       "UKM6  51.809166          8.105715\n",
       "UKN   19.629553         15.984317\n",
       "UKN0  19.629553         15.984317\n",
       "\n",
       "[404 rows x 2 columns]"
      ]
     },
     "execution_count": 4,
     "metadata": {},
     "output_type": "execute_result"
    }
   ],
   "source": [
    "harvest = pd.read_csv(settings.HARVEST_PATH, index_col='geo')\n",
    "harvest"
   ]
  },
  {
   "cell_type": "code",
   "execution_count": 5,
   "metadata": {},
   "outputs": [
    {
     "data": {
      "text/plain": [
       "geo\n",
       "AT      27.834650\n",
       "AT11     0.395425\n",
       "AT12     6.347312\n",
       "AT13     0.002201\n",
       "AT21     2.369130\n",
       "          ...    \n",
       "UKM2    10.211552\n",
       "UKM3    11.429717\n",
       "UKM5     4.001366\n",
       "UKM6     6.979625\n",
       "UKN0    23.973491\n",
       "Name: excretion, Length: 286, dtype: float64"
      ]
     },
     "execution_count": 5,
     "metadata": {},
     "output_type": "execute_result"
    }
   ],
   "source": [
    "excretion = pd.read_csv(settings.EXCRETION_PATH, index_col='geo').excretion\n",
    "excretion"
   ]
  },
  {
   "cell_type": "code",
   "execution_count": 6,
   "metadata": {},
   "outputs": [
    {
     "data": {
      "text/plain": [
       "geo\n",
       "AT      17.261000\n",
       "AT1      6.955574\n",
       "AT11     1.341108\n",
       "AT12     7.996930\n",
       "AT13     0.050766\n",
       "          ...    \n",
       "UKM3     3.771635\n",
       "UKM5     2.261876\n",
       "UKM6    13.056016\n",
       "UKN      2.735834\n",
       "UKN0     2.735834\n",
       "Name: mineral, Length: 390, dtype: float64"
      ]
     },
     "execution_count": 6,
     "metadata": {},
     "output_type": "execute_result"
    }
   ],
   "source": [
    "mineral = pd.read_csv(settings.MINERAL_FERTILIZER_PATH, index_col='geo').mineral\n",
    "mineral"
   ]
  },
  {
   "cell_type": "markdown",
   "metadata": {},
   "source": [
    "# Gather quantities for refarea alternatives and calculate surplus"
   ]
  },
  {
   "cell_type": "code",
   "execution_count": 7,
   "metadata": {},
   "outputs": [
    {
     "data": {
      "text/plain": [
       "{'UAA':         harvest  excretion    mineral    surplus  refarea\n",
       " geo                                                      \n",
       " AT    35.538532  27.834650  17.261000   9.557118  2.72689\n",
       " AT1   15.796516        NaN   6.955574        NaN  1.09884\n",
       " AT11   2.391751   0.395425   1.341108  -0.655218  0.18197\n",
       " AT12  13.859568   6.347312   7.996930   0.484674  0.90885\n",
       " AT13   0.095626   0.002201   0.050766  -0.042659  0.00802\n",
       " ...         ...        ...        ...        ...      ...\n",
       " UKM3  14.974345  11.429717   3.771635   0.227007  0.79834\n",
       " UKM5   8.888009   4.001366   2.261876  -2.624768  0.47877\n",
       " UKM6  51.809166   6.979625  13.056016 -31.773524  2.76356\n",
       " UKN   19.629553        NaN   2.735834        NaN  1.04614\n",
       " UKN0  19.629553  23.973491   2.735834   7.079772  1.04614\n",
       " \n",
       " [390 rows x 5 columns],\n",
       " 'UAA_XJ2000_J3000':         harvest  excretion    mineral    surplus  refarea\n",
       " geo                                                      \n",
       " AT    31.720921  27.834650  17.261000  13.374729  2.28822\n",
       " AT1   15.697578        NaN   6.955574        NaN  1.08506\n",
       " AT11   2.361472   0.395425   1.341108  -0.624939  0.17671\n",
       " AT12  13.798137   6.347312   7.996930   0.546105  0.90100\n",
       " AT13   0.093916   0.002201   0.050766  -0.040949  0.00735\n",
       " ...         ...        ...        ...        ...      ...\n",
       " UKM3   9.147147  11.429717   3.771635   6.054205  0.48694\n",
       " UKM5   5.764010   4.001366   2.261876   0.499231  0.31144\n",
       " UKM6   8.105715   6.979625  13.056016  11.929927  0.43391\n",
       " UKN   15.984317        NaN   2.735834        NaN  0.85062\n",
       " UKN0  15.984317  23.973491   2.735834  10.725008  0.85062\n",
       " \n",
       " [390 rows x 5 columns]}"
      ]
     },
     "execution_count": 7,
     "metadata": {},
     "output_type": "execute_result"
    }
   ],
   "source": [
    "quantities_all = {\n",
    "    k: (\n",
    "        pd.DataFrame(\n",
    "            dict(\n",
    "                harvest=harvest[k],\n",
    "                excretion=excretion,\n",
    "                mineral=mineral,\n",
    "                refarea=refareas[k],\n",
    "            )\n",
    "        )\n",
    "        .assign(surplus=lambda d:d.eval('excretion + mineral - harvest'))\n",
    "        [['harvest', 'excretion', 'mineral', 'surplus', 'refarea']]\n",
    "        .reindex(nuts_table.index)\n",
    "    )\n",
    "    for k in refareas.columns\n",
    "}\n",
    "quantities_all"
   ]
  },
  {
   "cell_type": "markdown",
   "metadata": {},
   "source": [
    "# Calculate rates (quantity / refarea)"
   ]
  },
  {
   "cell_type": "code",
   "execution_count": 8,
   "metadata": {},
   "outputs": [
    {
     "data": {
      "text/plain": [
       "{'UAA':         harvest  excretion   mineral    surplus  refarea\n",
       " geo                                                     \n",
       " AT    13.032624  10.207471  6.329922   3.504769  2.72689\n",
       " AT1   14.375629        NaN  6.329924        NaN  1.09884\n",
       " AT11  13.143653   2.173025  7.369938  -3.600691  0.18197\n",
       " AT12  15.249565   6.983894  8.798954   0.533283  0.90885\n",
       " AT13  11.923475   0.274447  6.329915  -5.319113  0.00802\n",
       " ...         ...        ...       ...        ...      ...\n",
       " UKM3  18.756851  14.316853  4.724347   0.284349  0.79834\n",
       " UKM5  18.564257   8.357596  4.724347  -5.482315  0.47877\n",
       " UKM6  18.747256   2.525592  4.724347 -11.497317  2.76356\n",
       " UKN   18.763791        NaN  2.615170        NaN  1.04614\n",
       " UKN0  18.763791  22.916140  2.615170   6.767519  1.04614\n",
       " \n",
       " [390 rows x 5 columns],\n",
       " 'UAA_XJ2000_J3000':         harvest  excretion    mineral    surplus  refarea\n",
       " geo                                                      \n",
       " AT    13.862706  12.164324   7.543418   5.845036  2.28822\n",
       " AT1   14.467014        NaN   6.410312        NaN  1.08506\n",
       " AT11  13.363545   2.237708   7.589313  -3.536524  0.17671\n",
       " AT12  15.314247   7.044742   8.875616   0.606110  0.90100\n",
       " AT13  12.777734   0.299465   6.906927  -5.571342  0.00735\n",
       " ...         ...        ...        ...        ...      ...\n",
       " UKM3  18.784958  23.472536   7.745585  12.433164  0.48694\n",
       " UKM5  18.507611  12.847952   7.262637   1.602977  0.31144\n",
       " UKM6  18.680636  16.085422  30.089227  27.494013  0.43391\n",
       " UKN   18.791372        NaN   3.216282        NaN  0.85062\n",
       " UKN0  18.791372  28.183550   3.216282  12.608460  0.85062\n",
       " \n",
       " [390 rows x 5 columns]}"
      ]
     },
     "execution_count": 8,
     "metadata": {},
     "output_type": "execute_result"
    }
   ],
   "source": [
    "rates_all = {\n",
    "    k: v.div(v[\"refarea\"], axis=0).drop(columns=\"refarea\").join(v[\"refarea\"])\n",
    "    for k, v in quantities_all.items()\n",
    "}\n",
    "rates_all"
   ]
  },
  {
   "cell_type": "markdown",
   "metadata": {},
   "source": [
    "# Compare national surplus calculated on different NUTS levels\n",
    "\n",
    "If the data are consistent and have sufficiently high coverage, the results should agree rather closely but need not be exactly identical."
   ]
  },
  {
   "cell_type": "code",
   "execution_count": 9,
   "metadata": {},
   "outputs": [],
   "source": [
    "def calculate_national_surplus_rates(quantities):\n",
    "    return (\n",
    "        pd.DataFrame(\n",
    "            {\n",
    "                nuts_level: (\n",
    "                    quantities\n",
    "                    .pipe(nuts.filter_nuts_level, nuts_level)\n",
    "                    [['surplus', 'refarea']]\n",
    "                    .dropna()\n",
    "                    .join(nuts_table.country_code, how='inner')\n",
    "                    .groupby('country_code')\n",
    "                    .sum()\n",
    "                    .eval('surplus / refarea')\n",
    "                )\n",
    "                for nuts_level in [0, 1, 2]\n",
    "            }\n",
    "        )\n",
    "    )"
   ]
  },
  {
   "cell_type": "code",
   "execution_count": 10,
   "metadata": {},
   "outputs": [
    {
     "data": {
      "image/png": "[encoded data removed]",
      "text/plain": [
       "<Figure size 360x864 with 1 Axes>"
      ]
     },
     "metadata": {
      "needs_background": "light"
     },
     "output_type": "display_data"
    },
    {
     "data": {
      "image/png": "[encoded data removed]",
      "text/plain": [
       "<Figure size 360x864 with 1 Axes>"
      ]
     },
     "metadata": {
      "needs_background": "light"
     },
     "output_type": "display_data"
    }
   ],
   "source": [
    "for variant, q in quantities_all.items():\n",
    "    ax = (\n",
    "        calculate_national_surplus_rates(q)\n",
    "        .sort_values(0)\n",
    "        .plot\n",
    "        .barh(figsize=(5, 12))\n",
    "    )\n",
    "    ax.set_title(variant)"
   ]
  },
  {
   "cell_type": "markdown",
   "metadata": {},
   "source": [
    "# Select NUTS level to use for each country"
   ]
  },
  {
   "cell_type": "code",
   "execution_count": 11,
   "metadata": {},
   "outputs": [],
   "source": [
    "selected_nuts_level = (\n",
    "    pd.Series(\n",
    "        {\n",
    "            **{k: 2 for k in EU28_countries},\n",
    "            **{'DE': 1}, # exceptions\n",
    "        },\n",
    "    )\n",
    "    .rename_axis('country_code')\n",
    "    .rename('nuts_level')\n",
    ")\n",
    "\n",
    "selected_regions = (\n",
    "    nuts_table\n",
    "    .reset_index()\n",
    "    .merge(selected_nuts_level.reset_index(), on=['country_code', 'nuts_level'], how='inner')\n",
    "    .set_index('geo')\n",
    "    .index\n",
    ")\n",
    "selected_regions\n",
    "\n",
    "def get_selected_subset(d, level=None):\n",
    "    return d.reindex(selected_regions, level=level)"
   ]
  },
  {
   "cell_type": "code",
   "execution_count": 12,
   "metadata": {},
   "outputs": [
    {
     "data": {
      "text/plain": [
       "Index(['AT11', 'AT12', 'AT13', 'AT21', 'AT22', 'AT31', 'AT32', 'AT33', 'AT34',\n",
       "       'BE10',\n",
       "       ...\n",
       "       'UKK2', 'UKK3', 'UKK4', 'UKL1', 'UKL2', 'UKM2', 'UKM3', 'UKM5', 'UKM6',\n",
       "       'UKN0'],\n",
       "      dtype='object', name='geo', length=243)"
      ]
     },
     "execution_count": 12,
     "metadata": {},
     "output_type": "execute_result"
    }
   ],
   "source": [
    "selected_regions"
   ]
  },
  {
   "cell_type": "code",
   "execution_count": 13,
   "metadata": {},
   "outputs": [],
   "source": [
    "subnational_quantities = {\n",
    "    k: v.pipe(get_selected_subset)\n",
    "    for k, v in quantities_all.items()\n",
    "}\n",
    "\n",
    "subnational_rates = {\n",
    "    k: v.pipe(get_selected_subset)\n",
    "    for k, v in rates_all.items()\n",
    "}"
   ]
  },
  {
   "cell_type": "code",
   "execution_count": 14,
   "metadata": {},
   "outputs": [],
   "source": [
    "national_quantities = {\n",
    "    k: v.join(nuts_table.country_code).groupby('country_code').sum().rename_axis('geo', axis=0)\n",
    "    for k, v in subnational_quantities.items()\n",
    "}\n",
    "\n",
    "national_rates = {\n",
    "    k: v.div(v.refarea, axis=0).drop(columns='refarea').join(v.refarea)\n",
    "    for k, v in national_quantities.items()\n",
    "}"
   ]
  },
  {
   "cell_type": "code",
   "execution_count": 15,
   "metadata": {},
   "outputs": [
    {
     "name": "stdout",
     "output_type": "stream",
     "text": [
      "Object `df.to_csv` not found.\n"
     ]
    }
   ],
   "source": [
    "df.to_csv?"
   ]
  },
  {
   "cell_type": "code",
   "execution_count": 16,
   "metadata": {},
   "outputs": [],
   "source": [
    "names_to_save = [\n",
    "    'subnational_quantities',\n",
    "    'subnational_rates',\n",
    "    'national_quantities',\n",
    "    'national_rates',\n",
    "]\n",
    "\n",
    "for name in names_to_save:\n",
    "    value = vars()[name]\n",
    "    for refarea, df in value.items():\n",
    "        os.makedirs(f'outdata/{refarea}', exist_ok=True)\n",
    "        df.to_csv(f'outdata/{refarea}/{name}.csv', float_format='%.4f')"
   ]
  }
 ],
 "metadata": {
  "kernelspec": {
   "display_name": "Python 3",
   "language": "python",
   "name": "python3"
  },
  "language_info": {
   "codemirror_mode": {
    "name": "ipython",
    "version": 3
   },
   "file_extension": ".py",
   "mimetype": "text/x-python",
   "name": "python",
   "nbconvert_exporter": "python",
   "pygments_lexer": "ipython3",
   "version": "3.6.9"
  }
 },
 "nbformat": 4,
 "nbformat_minor": 2
}
